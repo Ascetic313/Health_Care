{
 "cells": [
  {
   "cell_type": "code",
   "execution_count": null,
   "id": "fec934a5",
   "metadata": {},
   "outputs": [],
   "source": [
    "import codecademylib3_seaborn\n",
    "import pandas as pd\n",
    "from matplotlib import pyplot as plt\n",
    "\n",
    "healthcare = pd.read_csv(\"healthcare.csv\")\n",
    "print(healthcare.head())\n",
    "print(healthcare['DRG Definition'].unique())\n",
    "chest_pain = healthcare[healthcare['DRG Definition'] == '313 - CHEST PAIN']\n",
    "alabama_chest_pain = chest_pain[chest_pain['Provider State'] == \"AL\"]\n",
    "\n",
    "# Average Covered Charges:\n",
    "costs = alabama_chest_pain[' Average Covered Charges '].values\n",
    "states = chest_pain[\"Provider State\"].unique()\n",
    "datasets = []\n",
    "for state in states:\n",
    "  datasets.append(chest_pain[chest_pain['Provider State'] == state][' Average Covered Charges '].values)\n",
    "\n",
    "  #Creating Boxplot:\n",
    "  plt.figure(figsize=(20,6))\n",
    "  plt.boxplot(datasets, labels = states)\n",
    "  plt.show()"
   ]
  }
 ],
 "metadata": {
  "kernelspec": {
   "display_name": "Python 3",
   "language": "python",
   "name": "python3"
  },
  "language_info": {
   "codemirror_mode": {
    "name": "ipython",
    "version": 3
   },
   "file_extension": ".py",
   "mimetype": "text/x-python",
   "name": "python",
   "nbconvert_exporter": "python",
   "pygments_lexer": "ipython3",
   "version": "3.8.8"
  }
 },
 "nbformat": 4,
 "nbformat_minor": 5
}
